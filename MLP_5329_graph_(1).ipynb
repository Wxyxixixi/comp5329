{
  "nbformat": 4,
  "nbformat_minor": 0,
  "metadata": {
    "colab": {
      "name": "MLP_5329_graph (1).ipynb",
      "provenance": [],
      "collapsed_sections": [],
      "include_colab_link": true
    },
    "kernelspec": {
      "name": "python3",
      "display_name": "Python 3"
    }
  },
  "cells": [
    {
      "cell_type": "markdown",
      "metadata": {
        "id": "view-in-github",
        "colab_type": "text"
      },
      "source": [
        "<a href=\"https://colab.research.google.com/github/Wxyxixixi/comp5329/blob/kaiming-initialization/MLP_5329_graph_(1).ipynb\" target=\"_parent\"><img src=\"https://colab.research.google.com/assets/colab-badge.svg\" alt=\"Open In Colab\"/></a>"
      ]
    },
    {
      "cell_type": "code",
      "metadata": {
        "id": "Yq4SCvnshrf9",
        "colab_type": "code",
        "colab": {}
      },
      "source": [
        "!pip install -U -q PyDrive\n",
        "from pydrive.auth import GoogleAuth\n",
        "from pydrive.drive import GoogleDrive\n",
        "from google.colab import auth\n",
        "from oauth2client.client import GoogleCredentials\n",
        "import h5py\n",
        "import pandas as pd\n",
        "import numpy as np\n",
        "auth.authenticate_user()\n",
        "gauth = GoogleAuth()\n",
        "gauth.credentials = GoogleCredentials.get_application_default()\n",
        "drive = GoogleDrive(gauth)\n",
        "\n",
        "#download files from google drive\n",
        "download = drive.CreateFile({'id':'1fGT2vvmDcGJkh_Z2QZ-9DqCs_zNXgAU0'})\n",
        "download.GetContentFile('train_128.h5')\n",
        "download = drive.CreateFile({'id':'1T5dR0YruZ9yGOiEkq-Dj0Xj6PzdnRJSw'})\n",
        "download.GetContentFile('train_label.h5')\n",
        "download = drive.CreateFile({'id':'1X-xKBwhtWu17e7rrro1esNtsbGgmsUlr'})\n",
        "download.GetContentFile('test_128.h5')\n",
        "\n",
        "#read files\n",
        "train_data = h5py.File('train_128.h5','r')\n",
        "label_data = h5py.File('train_label.h5','r')\n",
        "test_data = h5py.File('test_128.h5','r')\n",
        "\n",
        "#get raw data\n",
        "input_data = train_data['data'][:]  # training data \n",
        "output_data = label_data['label'][:] # training data label\n",
        "test_data = test_data['data'][:] # testing data"
      ],
      "execution_count": 0,
      "outputs": []
    },
    {
      "cell_type": "code",
      "metadata": {
        "id": "ZXz4obRDY8bs",
        "colab_type": "code",
        "outputId": "962814de-a831-477e-d440-340036d132c8",
        "colab": {
          "base_uri": "https://localhost:8080/",
          "height": 238
        }
      },
      "source": [
        "test_data"
      ],
      "execution_count": 0,
      "outputs": [
        {
          "output_type": "execute_result",
          "data": {
            "text/plain": [
              "array([[-1488.66464507,   653.26252699,  -269.6704255 , ...,\n",
              "           41.85469634,    29.75681331,    -8.43981959],\n",
              "       [ 1871.88876409,  1077.02333858,   768.27447504, ...,\n",
              "           12.80051648,   -42.35655962,    36.66053284],\n",
              "       [  385.96046756, -1535.62583473,  -448.46663912, ...,\n",
              "          -39.01204158,     7.55727077,     9.05490692],\n",
              "       ...,\n",
              "       [ -510.60945635,  -726.94527121,  -207.56729926, ...,\n",
              "           21.49458526,    -3.24460034,   129.99005597],\n",
              "       [ -220.99035211, -1412.48240142,  -442.77091031, ...,\n",
              "          -14.44252252,    66.93052758,    46.78397311],\n",
              "       [-1521.14047237,    92.54090804,   265.69559511, ...,\n",
              "           -8.9647171 ,    41.84234159,   -59.93616383]])"
            ]
          },
          "metadata": {
            "tags": []
          },
          "execution_count": 91
        }
      ]
    },
    {
      "cell_type": "code",
      "metadata": {
        "id": "BvAfDggfiH79",
        "colab_type": "code",
        "colab": {}
      },
      "source": [
        "class Activation(object):\n",
        "    def __tanh(self, x):\n",
        "        return np.tanh(x)\n",
        "\n",
        "    def __tanh_deriv(self, a):\n",
        "        # a = np.tanh(x)   \n",
        "        return 1.0 - a**2\n",
        "\n",
        "    def __logistic(self, x):\n",
        "        return (1.0 / (1.0 + np.exp(-x)))\n",
        "\n",
        "    def __logistic_deriv(self, a):\n",
        "        # a = logistic(x) \n",
        "        return  (a * (1 - a ))\n",
        "\n",
        "    def __ReLU(self,x):\n",
        "        return x * (x > 0)\n",
        "    \n",
        "    def __ReLU_deriv(self,a):\n",
        "        return 1 * (a > 0)    \n",
        "\n",
        "    def __softmax(self, x):\n",
        "        y = np.atleast_2d(x)\n",
        "        y = np.exp(y - np.expand_dims(np.max(y, -1),-1))\n",
        "        sum_va = np.expand_dims(np.sum(y,-1), -1)  \n",
        "        return y / sum_va\n",
        "\n",
        "    def __softmax_deriv(self, a):\n",
        "        return a * (1 - a)\n",
        "    \n",
        "    def __init__(self,activation='tanh'):\n",
        "        if activation == 'logistic':\n",
        "            self.f = self.__logistic\n",
        "            self.f_deriv = self.__logistic_deriv\n",
        "        elif activation == 'tanh':\n",
        "            self.f = self.__tanh\n",
        "            self.f_deriv = self.__tanh_deriv\n",
        "        elif activation == 'softmax':\n",
        "            self.f = self.__softmax\n",
        "            self.f_deriv = self.__softmax_deriv\n",
        "        elif activation == 'ReLU':\n",
        "            self.f = self.__ReLU\n",
        "            self.f_deriv = self.__ReLU_deriv"
      ],
      "execution_count": 0,
      "outputs": []
    },
    {
      "cell_type": "code",
      "metadata": {
        "id": "aw4P7C8QiQ70",
        "colab_type": "code",
        "colab": {}
      },
      "source": [
        "class HiddenLayer(object):    \n",
        "    def __init__(self,n_in, n_out,\n",
        "                 activation_last_layer='tanh',activation='tanh', dropout=None, W=None, b=None):\n",
        "\n",
        "        self.input=None\n",
        "        self.activation=Activation(activation).f\n",
        "        self.dropout=dropout\n",
        "        self.dropout_vector = None\n",
        "        \n",
        "        # activation deriv of last layer\n",
        "        self.activation_deriv=None\n",
        "        if activation_last_layer:\n",
        "            self.activation_deriv=Activation(activation_last_layer).f_deriv\n",
        "\n",
        "        self.W = np.random.uniform(\n",
        "                low=-np.sqrt(6. / (n_in + n_out)),\n",
        "                high=np.sqrt(6. / (n_in + n_out)),\n",
        "                size=(n_in, n_out))\n",
        "        if activation == 'logistic':\n",
        "            self.W *= 4\n",
        "\n",
        "        self.b = np.zeros(n_out,)\n",
        "        \n",
        "        self.grad_W = np.zeros(self.W.shape)\n",
        "        self.grad_b = np.zeros(self.b.shape)\n",
        "        \n",
        "        self.vel_W = np.zeros(self.W.shape)\n",
        "        self.vel_b = np.zeros(self.b.shape)\n",
        "        \n",
        "    def forward(self, input):\n",
        "\n",
        "            # Calculate linear output\n",
        "        lin_output = np.dot(input, self.W) + self.b\n",
        "            \n",
        "        self.output = (\n",
        "                lin_output if self.activation is None\n",
        "                else self.activation(lin_output))    \n",
        "        if self.dropout:\n",
        "            self.dropout_vector = np.random.binomial(1, 1-self.dropout, size=self.output.shape[-1])/(1-self.dropout)\n",
        "            self.output = self.output * self.dropout_vector\n",
        "        self.input=input\n",
        "\n",
        "        return self.output\n",
        "    \n",
        "    def backward(self, delta, output_layer=False):\n",
        "        \n",
        "        self.grad_W = np.atleast_2d(self.input).T.dot(np.atleast_2d(delta))\n",
        "        \n",
        "        if self.dropout: \n",
        "          self.dropout_vector*self.grad_W  \n",
        "        self.grad_b = np.sum(delta,axis=0)\n",
        "        if self.activation_deriv: \n",
        "          delta = delta.dot(self.W.T) * self.activation_deriv(self.input)\n",
        "            \n",
        "        return delta"
      ],
      "execution_count": 0,
      "outputs": []
    },
    {
      "cell_type": "code",
      "metadata": {
        "id": "mlJ8sK_fhuyM",
        "colab_type": "code",
        "colab": {}
      },
      "source": [
        "class MLP:\n",
        "    def __init__(self, layers, activation, dropout, learning_rate, batch_size, momentum, weight_decay ,epochs, test_size):\n",
        "       \n",
        "        ### initialize layers\n",
        "        self.layers=[]\n",
        "        self.params=[]\n",
        "        self.activation = activation\n",
        "        self.dropout = dropout\n",
        "        self.lr = learning_rate\n",
        "        self.batch_size = batch_size\n",
        "        self.momentum = momentum\n",
        "        self.weight_decay = weight_decay\n",
        "        self.epochs = epochs\n",
        "        self.test_size = test_size\n",
        "        \n",
        "        for i in range(len(layers)-1):\n",
        "            self.layers.append(HiddenLayer(layers[i],layers[i+1],activation[i],activation[i+1],self.dropout[i]))\n",
        "\n",
        "    def normlization(self, x):\n",
        "      mean = np.mean(x, axis = 0)\n",
        "      stand_devi = np.std(x-mean, axis = 0)\n",
        "      return (x - mean) / stand_devi\n",
        "\n",
        "    def forward(self,input):\n",
        "        for layer in self.layers:\n",
        "            output=layer.forward(input=input)\n",
        "            input=output\n",
        "        return output\n",
        "    \n",
        "    def criterion_CELoss(self,y,y_hat):\n",
        "        error = y * np.log(y_hat)\n",
        "        loss = -np.sum(error)\n",
        "        #delta = y_hat-y\n",
        "        delta = -(y-y_hat) * self.layers[-1].activation_deriv(y_hat)\n",
        "        return loss,delta\n",
        "        \n",
        "    def backward(self,delta):\n",
        "        delta=self.layers[-1].backward(delta,output_layer=True)\n",
        "        for layer in reversed(self.layers[:-1]):\n",
        "            delta=layer.backward(delta)\n",
        "            \n",
        "    def update(self,lr):\n",
        "\n",
        "        for layer in self.layers:\n",
        "          layer.vel_W = layer.vel_W * self.momentum + layer.grad_W * self.lr\n",
        "          layer.vel_b = layer.vel_b * self.momentum + layer.grad_b * self.lr\n",
        "          layer.W -= (layer.vel_W + layer.W * self.weight_decay)\n",
        "          layer.b -= (layer.vel_b + layer.b * self.weight_decay)\n",
        "\n",
        "            \n",
        "    def generate_batches(self,X, y, batch_size):\n",
        "        rand = np.random.choice(len(y), len(y), replace=False)\n",
        "        X_shuffled = X[rand]\n",
        "        y_shuffled = np.array(y)[rand.astype(int)]\n",
        "        batches = [(X_shuffled[i:i+self.batch_size,:], y_shuffled[i:i+self.batch_size]) for i in range(0, len(y), self.batch_size)]\n",
        "        return batches\n",
        "\n",
        "    def predict(self, x):\n",
        "        x = np.array(x)\n",
        "        yhat = self.forward(x)\n",
        "        yhat = np.argmax(yhat,axis=1)\n",
        "        return yhat\n",
        "\n",
        "    def fit(self, X, y):\n",
        "     \n",
        "        y_dummies = np.array(pd.get_dummies(y))\n",
        "        X_train, X_val, y_train, y_val = train_test_split(X, y_dummies, test_size = self.test_size)\n",
        "        \n",
        "        # normalise the data\n",
        "        #X_train = self.normlization(X_train)\n",
        "        #X_val = self.normlization(X_val)\n",
        "\n",
        "        to_return = np.zeros(self.epochs)\n",
        "        acc_validation = []\n",
        "        acc_training = []\n",
        "        logloss = []\n",
        "\n",
        "        batches = self.generate_batches(X_train, y_train, self.batch_size)\n",
        "        for k in range(self.epochs):\n",
        "            sum_loss = 0\n",
        "\n",
        "            yhat_train = self.forward(X_train)\n",
        "            yhat_val = self.forward(X_val)\n",
        "            \n",
        "            # get max value for train and validation\n",
        "            y_train_max = np.argmax(np.array(y_train),axis=1)\n",
        "            yhat_train_max = np.argmax(yhat_train,axis=1)\n",
        "\n",
        "            y_val_max = np.argmax(np.array(y_val),axis=1)\n",
        "            yhat_val_max = np.argmax(yhat_val,axis=1)\n",
        "\n",
        "            # Calculate train and Test Accuracy\n",
        "            accuracy_train = (np.sum(y_train_max == yhat_train_max)) / (y_train.shape[0])\n",
        "            accuracy_val = (np.sum(y_val_max == yhat_val_max)) / (y_val.shape[0])\n",
        "            # \n",
        "\n",
        "            for X_batch,y_dummies in batches:\n",
        "                # forward pass\n",
        "                y_hat = self.forward(X_batch)\n",
        "                    \n",
        "                # backward pass\n",
        "                loss,delta=self.criterion_CELoss(y_dummies,y_hat)\n",
        "\n",
        "                sum_loss += loss\n",
        "                self.backward(delta)\n",
        "                    \n",
        "                # update\n",
        "                self.update(self.lr)\n",
        "            to_return[k] = sum_loss/X_train.shape[0]\n",
        "\n",
        "            acc_validation.append(accuracy_train)\n",
        "            acc_training.append(accuracy_val)\n",
        "            logloss.append(to_return[k])\n",
        "            \n",
        "            if k % 10 == 9:\n",
        "                print('Epoch: %d, train Accuracy: %.4f, Val Accuracy: %.4f, Loss: %.4f'\n",
        "                    %(k+1, accuracy_train, accuracy_val, to_return[k]))\n",
        "       #         print(acc_validation)\n",
        "        return acc_training, acc_validation, logloss"
      ],
      "execution_count": 0,
      "outputs": []
    },
    {
      "cell_type": "code",
      "metadata": {
        "id": "FNtfCeSgmHnf",
        "colab_type": "code",
        "colab": {}
      },
      "source": [
        "def train_test_split(X, y, test_size=0.25):\n",
        "    X=np.array(X)\n",
        "    y=np.array(y)\n",
        "    idxs = np.arange(X.shape[0])\n",
        "    np.random.shuffle(idxs)\n",
        "    train_idxs = idxs[0:round(((1-test_size)*X.shape[0]))]\n",
        "\n",
        "    X_train = X[train_idxs]\n",
        "    y_train = y[train_idxs]\n",
        "    X_test =  X[~train_idxs]\n",
        "    y_test = y[~train_idxs]\n",
        "\n",
        "    return X_train, X_test, y_train, y_test"
      ],
      "execution_count": 0,
      "outputs": []
    },
    {
      "cell_type": "code",
      "metadata": {
        "id": "-L4J_fgCqXGF",
        "colab_type": "code",
        "colab": {}
      },
      "source": [
        "\n",
        "layers = [128, 128, 128, 10]\n",
        "activation = [None, 'ReLU', 'ReLU', 'softmax']\n",
        "dropout = [0.1, 0.1, 0.0, 0.0]\n",
        "learning_rate=0.0001 \n",
        "batch_size=32\n",
        "momentum=0.9\n",
        "weight_decay=0.00001\n",
        "epochs=50\n",
        "test_size = 0.25 # for spliting train and validation data"
      ],
      "execution_count": 0,
      "outputs": []
    },
    {
      "cell_type": "code",
      "metadata": {
        "id": "YFafmDB8NTRT",
        "colab_type": "code",
        "colab": {}
      },
      "source": [
        "nn = MLP(layers, activation, dropout, learning_rate, batch_size, momentum, weight_decay, epochs, test_size)"
      ],
      "execution_count": 0,
      "outputs": []
    },
    {
      "cell_type": "code",
      "metadata": {
        "id": "Z-Am_c4RiWpc",
        "colab_type": "code",
        "outputId": "27cdd02a-474e-4e9e-d96e-8e1efa7efa8d",
        "colab": {
          "base_uri": "https://localhost:8080/",
          "height": 204
        }
      },
      "source": [
        "acc_training, acc_validation, logloss = nn.fit(input_data, output_data)"
      ],
      "execution_count": 15,
      "outputs": [
        {
          "output_type": "stream",
          "text": [
            "/usr/local/lib/python3.6/dist-packages/ipykernel_launcher.py:31: RuntimeWarning: divide by zero encountered in log\n",
            "/usr/local/lib/python3.6/dist-packages/ipykernel_launcher.py:31: RuntimeWarning: invalid value encountered in multiply\n",
            "/usr/local/lib/python3.6/dist-packages/ipykernel_launcher.py:40: RuntimeWarning: invalid value encountered in multiply\n",
            "/usr/local/lib/python3.6/dist-packages/ipykernel_launcher.py:24: RuntimeWarning: invalid value encountered in subtract\n",
            "/usr/local/lib/python3.6/dist-packages/ipykernel_launcher.py:20: RuntimeWarning: invalid value encountered in greater\n",
            "/usr/local/lib/python3.6/dist-packages/ipykernel_launcher.py:17: RuntimeWarning: invalid value encountered in greater\n"
          ],
          "name": "stderr"
        },
        {
          "output_type": "stream",
          "text": [
            "Epoch: 10, train Accuracy: 0.1002, Val Accuracy: 0.0992, Loss: nan\n",
            "Epoch: 20, train Accuracy: 0.1002, Val Accuracy: 0.0992, Loss: nan\n",
            "Epoch: 30, train Accuracy: 0.1002, Val Accuracy: 0.0992, Loss: nan\n",
            "Epoch: 40, train Accuracy: 0.1002, Val Accuracy: 0.0992, Loss: nan\n",
            "Epoch: 50, train Accuracy: 0.1002, Val Accuracy: 0.0992, Loss: nan\n"
          ],
          "name": "stdout"
        }
      ]
    },
    {
      "cell_type": "code",
      "metadata": {
        "id": "w_9PvDD6HPzo",
        "colab_type": "code",
        "outputId": "7bb48e27-85ba-45fd-99cd-1a7db23ee0fd",
        "colab": {
          "base_uri": "https://localhost:8080/",
          "height": 285
        }
      },
      "source": [
        "import matplotlib.pyplot as pl\n",
        "from ipywidgets import interact, widgets\n",
        "from matplotlib import animation\n",
        "\n",
        "pl.figure(figsize=(10, 4))\n",
        "pl.plot(acc_training, label='train')\n",
        "pl.plot(acc_validation, label='validation')\n",
        "pl.plot(logloss,label = 'loss')\n",
        "pl.legend()\n"
      ],
      "execution_count": 0,
      "outputs": [
        {
          "output_type": "execute_result",
          "data": {
            "text/plain": [
              "<matplotlib.legend.Legend at 0x7f78b8e9b978>"
            ]
          },
          "metadata": {
            "tags": []
          },
          "execution_count": 72
        },
        {
          "output_type": "display_data",
          "data": {
            "image/png": "[encoded data removed]",
            "text/plain": [
              "<Figure size 720x288 with 1 Axes>"
            ]
          },
          "metadata": {
            "tags": [],
            "needs_background": "light"
          }
        }
      ]
    },
    {
      "cell_type": "code",
      "metadata": {
        "id": "sYT_r3q4KpvM",
        "colab_type": "code",
        "outputId": "faf9c4ca-b331-42eb-c6c3-c7a62f60675e",
        "colab": {
          "base_uri": "https://localhost:8080/",
          "height": 34
        }
      },
      "source": [
        "yhat_test = nn.predict(test_data)\n",
        "yhat_test"
      ],
      "execution_count": 0,
      "outputs": [
        {
          "output_type": "execute_result",
          "data": {
            "text/plain": [
              "array([5, 2, 1, ..., 8, 1, 5])"
            ]
          },
          "metadata": {
            "tags": []
          },
          "execution_count": 90
        }
      ]
    },
    {
      "cell_type": "code",
      "metadata": {
        "id": "i8aNlulMT0tW",
        "colab_type": "code",
        "outputId": "ff342382-53cf-482a-c162-6c7adddeab64",
        "colab": {
          "base_uri": "https://localhost:8080/",
          "height": 388
        }
      },
      "source": [
        "colors=np.random.rand(10000)\n",
        "pl.figure(figsize=(8,6))\n",
        "pl.scatter(test_data[:,2], yhat_test, s=100, c = colors)\n",
        "pl.xlabel('Targets')\n",
        "pl.ylabel('MLP output')\n",
        "pl.show()"
      ],
      "execution_count": 0,
      "outputs": [
        {
          "output_type": "display_data",
          "data": {
            "image/png": "[encoded data removed]",
            "text/plain": [
              "<Figure size 576x432 with 1 Axes>"
            ]
          },
          "metadata": {
            "tags": [],
            "needs_background": "light"
          }
        }
      ]
    }
  ]
}